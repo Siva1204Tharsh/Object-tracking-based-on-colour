{
 "cells": [
  {
   "cell_type": "code",
   "execution_count": null,
   "metadata": {},
   "outputs": [],
   "source": [
    "import imutils #resize\n",
    "import cv2\n",
    "redLower=(28,69,120)\n",
    "redUpper=(171,255,224)\n",
    "\n",
    "camera=cv2.VideoCapture(0) # iniitalize the camera\n",
    "\n",
    "while True:\n",
    "    ret, frame = camera.read() # read the camera frame\n",
    "    frame=imutils.resize(frame,width=1000) # resize the frame\n",
    "    blurred=cv2.GaussianBlur(frame,(11,11),0) # blur the frame\n",
    "    hsv=cv2.cvtColor(blurred,cv2.COLOR_BGR2HSV) # convert to HSV\n",
    "    mask=cv2.inRange(hsv,redLower,redUpper) # create a mask out of the range /// mask the object color\n",
    "    # print (hsv)\n",
    "    mask=cv2.erode(mask,None,iterations=2) # erode the mask  remove noise or left overs\n",
    "    mask=cv2.dilate(mask,None,iterations=2) # dilate the mask\n",
    "\n",
    "    contours=cv2.findContours(mask.copy(),cv2.RETR_EXTERNAL,cv2.CHAIN_APPROX_SIMPLE)[-2] # find contours\n",
    "    center=None\n",
    "    if len(contours)>0: # if there are contours\n",
    "        c=max(contours,key=cv2.contourArea)\n",
    "        ((x,y),radius)=cv2.minEnclosingCircle(c) # find the minimum enclosing circle\n",
    "        M=cv2.moments(c) # find the moments\n",
    "        center=(int(M[\"m10\"]/M[\"m00\"]),int(M[\"m01\"]/M[\"m00\"])) # find the center\n",
    "        if radius >10:\n",
    "            cv2.circle(frame,(int(x),int(y)),int(radius),(0,255,0),2)\n",
    "            cv2.circle(frame,center,5,(0,255,0),-1)\n",
    "            print(center,radius)\n",
    "            if radius >250:\n",
    "                print(\"stop\")\n",
    "            else:\n",
    "                if center[0]<150:\n",
    "                    print(\"Right\")\n",
    "                elif center[0]>450:\n",
    "                    print(\"Left\")\n",
    "                elif radius <250:\n",
    "                    print(\"front\")\n",
    "                else:\n",
    "                    print(\"Stop\")\n",
    "    cv2.imshow(\"frame\",frame)\n",
    "    k=cv2.waitKey(1)\n",
    "    if k==27:\n",
    "        break\n",
    "camera.release()\n",
    "cv2.destroyAllWindows()\n",
    "\n"
   ]
  }
 ],
 "metadata": {
  "kernelspec": {
   "display_name": "computervin",
   "language": "python",
   "name": "python3"
  },
  "language_info": {
   "codemirror_mode": {
    "name": "ipython",
    "version": 3
   },
   "file_extension": ".py",
   "mimetype": "text/x-python",
   "name": "python",
   "nbconvert_exporter": "python",
   "pygments_lexer": "ipython3",
   "version": "3.9.19"
  }
 },
 "nbformat": 4,
 "nbformat_minor": 2
}
